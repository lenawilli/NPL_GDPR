{
 "cells": [
  {
   "cell_type": "markdown",
   "metadata": {},
   "source": [
    "RAG with LLM Implementation"
   ]
  },
  {
   "cell_type": "code",
   "execution_count": 1,
   "metadata": {},
   "outputs": [],
   "source": [
    "import json\n",
    "import math\n",
    "from typing import List, Dict, Any\n",
    "from functools import lru_cache\n",
    "\n",
    "from openai import OpenAI"
   ]
  },
  {
   "cell_type": "markdown",
   "metadata": {},
   "source": [
    "We will provide embeddings to LLM to find the best article match."
   ]
  },
  {
   "cell_type": "code",
   "execution_count": 2,
   "metadata": {},
   "outputs": [],
   "source": [
    "EMBED_MODEL = \"text-embedding-3-small\"\n",
    "TOP_N = 1\n",
    "client = OpenAI()"
   ]
  },
  {
   "cell_type": "markdown",
   "metadata": {},
   "source": [
    "Helper methods to load the json files"
   ]
  },
  {
   "cell_type": "code",
   "execution_count": 3,
   "metadata": {},
   "outputs": [],
   "source": [
    "def load_gdpr_articles(path: str = \"gdpr_articles_baseline.json\") -> List[Dict[str, Any]]:\n",
    "    with open(path, \"r\", encoding=\"utf-8\") as f:\n",
    "        return json.load(f)\n",
    "\n",
    "def load_privacy_policy(path: str = \"ikea_privacy_policy.json\") -> List[Dict[str, str]]:\n",
    "    with open(path, \"r\", encoding=\"utf-8\") as f:\n",
    "        return json.load(f)"
   ]
  },
  {
   "cell_type": "markdown",
   "metadata": {},
   "source": [
    "Helper methods to calculate cosine similarity between embedding vectors, prepares cached embeddings and concatenated article text for semantic comparison."
   ]
  },
  {
   "cell_type": "code",
   "execution_count": 4,
   "metadata": {},
   "outputs": [],
   "source": [
    "def cosine_similarity(v1: List[float], v2: List[float]) -> float:\n",
    "    dot = sum(a*b for a, b in zip(v1, v2))\n",
    "    norm1 = math.sqrt(sum(a*a for a in v1))\n",
    "    norm2 = math.sqrt(sum(b*b for b in v2))\n",
    "    return dot / (norm1 * norm2 + 1e-10)\n",
    "\n",
    "@lru_cache(maxsize=1024)\n",
    "def get_embedding(text: str) -> List[float]:\n",
    "    \"\"\"Return embedding vector for given text (with caching).\"\"\"\n",
    "    resp = client.embeddings.create(model=EMBED_MODEL, input=text.replace(\"\\n\", \" \"))\n",
    "    return resp.data[0].embedding\n",
    "\n",
    "def prepare_article_text(article: Dict[str, Any]) -> str:\n",
    "    \"\"\"Concatenate article title and its section texts into one string.\"\"\"\n",
    "    body = \" \".join(\n",
    "        \" \".join(sec.values()) if isinstance(sec, dict) else str(sec)\n",
    "        for sec in article.get(\"sections\", [])\n",
    "    )\n",
    "    return f\"Art. {article['article_number']} – {article['article_title']} {body}\""
   ]
  },
  {
   "cell_type": "markdown",
   "metadata": {},
   "source": [
    "We define the method to analyze each section of the privacy policy by comparing its embedding to GDPR article embeddings and return the top N most similar articles per section."
   ]
  },
  {
   "cell_type": "code",
   "execution_count": 7,
   "metadata": {},
   "outputs": [],
   "source": [
    "def audit_policy_similarity(policy_path: str = \"../ikea_privacy_policy.json\", articles_path: str = \"../gdpr_articles_baseline.json\", top_n: int = TOP_N) -> List[Dict[str, Any]]:\n",
    "    # Load data\n",
    "    gdpr_articles = load_gdpr_articles(articles_path)\n",
    "    sections      = load_privacy_policy(policy_path)\n",
    "\n",
    "    # Pre‑compute embeddings for all GDPR articles\n",
    "    article_embeddings = {}\n",
    "    for art in gdpr_articles:\n",
    "        art_text = prepare_article_text(art)\n",
    "        article_embeddings[art[\"article_number\"]] = {\n",
    "            \"embedding\": get_embedding(art_text),\n",
    "            \"title\": art[\"article_title\"]\n",
    "        }\n",
    "\n",
    "    # Analyse each section\n",
    "    report = []\n",
    "    for idx, sec in enumerate(sections, start=1):\n",
    "        sec_text = sec.get(\"section_text\", \"\")\n",
    "        if not sec_text.strip():\n",
    "            continue  # skip empty sections\n",
    "\n",
    "        sec_emb = get_embedding(sec_text)\n",
    "        # Compute similarity for every article\n",
    "        sims = []\n",
    "        for num, info in article_embeddings.items():\n",
    "            sim = cosine_similarity(sec_emb, info[\"embedding\"])\n",
    "            sims.append({\"article\": num, \"title\": info[\"title\"], \"similarity\": round(sim, 4)})\n",
    "        # Take top N\n",
    "        sims.sort(key=lambda x: x[\"similarity\"], reverse=True)\n",
    "        top_matches = sims[:top_n]\n",
    "\n",
    "        report.append({\n",
    "            \"section_index\": idx,\n",
    "            \"section_title\": sec.get(\"section_title\", f\"Section {idx}\"),\n",
    "            \"top_matches\": top_matches,\n",
    "        })\n",
    "\n",
    "    return report\n"
   ]
  },
  {
   "cell_type": "code",
   "execution_count": 8,
   "metadata": {},
   "outputs": [
    {
     "name": "stdout",
     "output_type": "stream",
     "text": [
      "[\n",
      "  {\n",
      "    \"section_index\": 1,\n",
      "    \"section_title\": \"1. Who is the responsible controller for the data processing and whom you may contact?\",\n",
      "    \"top_matches\": [\n",
      "      {\n",
      "        \"article\": 28,\n",
      "        \"title\": \"Processor\",\n",
      "        \"similarity\": 0.4692\n",
      "      }\n",
      "    ]\n",
      "  },\n",
      "  {\n",
      "    \"section_index\": 2,\n",
      "    \"section_title\": \"2. What data is being processed and from which sources do these stem from?\",\n",
      "    \"top_matches\": [\n",
      "      {\n",
      "        \"article\": 13,\n",
      "        \"title\": \"Information to be provided where personal data are collected from the data subject\",\n",
      "        \"similarity\": 0.4975\n",
      "      }\n",
      "    ]\n",
      "  },\n",
      "  {\n",
      "    \"section_index\": 3,\n",
      "    \"section_title\": \"3. For which purpose and for how long is the data being processed?\",\n",
      "    \"top_matches\": [\n",
      "      {\n",
      "        \"article\": 13,\n",
      "        \"title\": \"Information to be provided where personal data are collected from the data subject\",\n",
      "        \"similarity\": 0.5906\n",
      "      }\n",
      "    ]\n",
      "  },\n",
      "  {\n",
      "    \"section_index\": 4,\n",
      "    \"section_title\": \"4. On which legal basis is personal data being processed?\",\n",
      "    \"top_matches\": [\n",
      "      {\n",
      "        \"article\": 6,\n",
      "        \"title\": \"Lawfulness of processing\",\n",
      "        \"similarity\": 0.6777\n",
      "      }\n",
      "    ]\n",
      "  },\n",
      "  {\n",
      "    \"section_index\": 5,\n",
      "    \"section_title\": \"5. Who will be receiving your data?\",\n",
      "    \"top_matches\": [\n",
      "      {\n",
      "        \"article\": 28,\n",
      "        \"title\": \"Processor\",\n",
      "        \"similarity\": 0.4983\n",
      "      }\n",
      "    ]\n",
      "  },\n",
      "  {\n",
      "    \"section_index\": 6,\n",
      "    \"section_title\": \"6. Are you obliged to provide data?\",\n",
      "    \"top_matches\": [\n",
      "      {\n",
      "        \"article\": 13,\n",
      "        \"title\": \"Information to be provided where personal data are collected from the data subject\",\n",
      "        \"similarity\": 0.4364\n",
      "      }\n",
      "    ]\n",
      "  },\n",
      "  {\n",
      "    \"section_index\": 7,\n",
      "    \"section_title\": \"7. Is there automated decision-making including profiling?\",\n",
      "    \"top_matches\": [\n",
      "      {\n",
      "        \"article\": 22,\n",
      "        \"title\": \"Automated individual decision-making, including profiling\",\n",
      "        \"similarity\": 0.6317\n",
      "      }\n",
      "    ]\n",
      "  },\n",
      "  {\n",
      "    \"section_index\": 8,\n",
      "    \"section_title\": \"8. Your rights in processing your personal data\",\n",
      "    \"top_matches\": [\n",
      "      {\n",
      "        \"article\": 15,\n",
      "        \"title\": \"Right of access by the data subject\",\n",
      "        \"similarity\": 0.6323\n",
      "      }\n",
      "    ]\n",
      "  }\n",
      "]\n"
     ]
    }
   ],
   "source": [
    "result = audit_policy_similarity()\n",
    "print(json.dumps(result, indent=2, ensure_ascii=False))"
   ]
  }
 ],
 "metadata": {
  "kernelspec": {
   "display_name": "deng",
   "language": "python",
   "name": "python3"
  },
  "language_info": {
   "codemirror_mode": {
    "name": "ipython",
    "version": 3
   },
   "file_extension": ".py",
   "mimetype": "text/x-python",
   "name": "python",
   "nbconvert_exporter": "python",
   "pygments_lexer": "ipython3",
   "version": "3.10.15"
  }
 },
 "nbformat": 4,
 "nbformat_minor": 2
}

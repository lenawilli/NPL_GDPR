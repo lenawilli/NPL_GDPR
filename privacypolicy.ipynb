{
 "cells": [
  {
   "cell_type": "code",
   "execution_count": 4,
   "metadata": {},
   "outputs": [
    {
     "name": "stdout",
     "output_type": "stream",
     "text": [
      "                                       section_title  \\\n",
      "0  1. Who is the responsible controller for the d...   \n",
      "1  2. What data is being processed and from which...   \n",
      "2  3. For which purpose and for how long is the d...   \n",
      "3  4. On which legal basis is personal data being...   \n",
      "4                5. Who will be receiving your data?   \n",
      "5                6. Are you obliged to provide data?   \n",
      "6  7. Is there automated decision-making includin...   \n",
      "7    8. Your rights in processing your personal data   \n",
      "\n",
      "                                        section_text  \n",
      "0  The party responsible for processing data (“co...  \n",
      "1  We process the data that we receive from you i...  \n",
      "2  We  process your data for specific purposes an...  \n",
      "3  4.1 On grounds of consent – Art 6 para 1 lit a...  \n",
      "4  Your data will be passed on to the following r...  \n",
      "5  You will need to give us your data for us to b...  \n",
      "6  We will not use automated decision-making acco...  \n",
      "7  You may (i) demand disclosure on whether and w...  \n"
     ]
    }
   ],
   "source": [
    "import requests\n",
    "from bs4 import BeautifulSoup, Tag\n",
    "import pandas as pd\n",
    "import json\n",
    "\n",
    "url = \"https://www.ikea.com/at/en/customer-service/privacy-policy/\"\n",
    "response = requests.get(url)\n",
    "soup = BeautifulSoup(response.text, 'html.parser')\n",
    "\n",
    "data = []\n",
    "for h2 in soup.find_all('h2'):\n",
    "    section_title = h2.get_text(strip=True)\n",
    "    section_text_parts = []\n",
    "\n",
    "    for sibling in h2.find_next_siblings():\n",
    "        if sibling.name == 'h2':\n",
    "            break  # Stop at the next heading\n",
    "        if isinstance(sibling, Tag):\n",
    "            text = sibling.get_text(strip=True)\n",
    "            if text:\n",
    "                section_text_parts.append(text)\n",
    "\n",
    "    if section_text_parts:\n",
    "        section_text = \" \".join(section_text_parts)\n",
    "        data.append({\n",
    "            'section_title': section_title,\n",
    "            'section_text': section_text\n",
    "        })\n",
    "\n",
    "# Save to JSON\n",
    "with open(\"ikea_privacy_policy.json\", \"w\", encoding=\"utf-8\") as f:\n",
    "    json.dump(data, f, indent=2, ensure_ascii=False)\n",
    "df = pd.DataFrame(data)\n",
    "print(df)\n"
   ]
  }
 ],
 "metadata": {
  "kernelspec": {
   "display_name": "deng",
   "language": "python",
   "name": "python3"
  },
  "language_info": {
   "codemirror_mode": {
    "name": "ipython",
    "version": 3
   },
   "file_extension": ".py",
   "mimetype": "text/x-python",
   "name": "python",
   "nbconvert_exporter": "python",
   "pygments_lexer": "ipython3",
   "version": "3.10.15"
  }
 },
 "nbformat": 4,
 "nbformat_minor": 2
}

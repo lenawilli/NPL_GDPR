{
 "cells": [
  {
   "cell_type": "code",
   "execution_count": null,
   "metadata": {},
   "outputs": [],
   "source": [
    "import pandas as pd\n",
    "import matplotlib.pyplot as plt\n",
    "import seaborn as sns\n",
    "import json\n",
    "from sentence_transformers import SentenceTransformer, util"
   ]
  },
  {
   "cell_type": "code",
   "execution_count": 8,
   "metadata": {},
   "outputs": [
    {
     "data": {
      "application/vnd.microsoft.datawrangler.viewer.v0+json": {
       "columns": [
        {
         "name": "index",
         "rawType": "int64",
         "type": "integer"
        },
        {
         "name": "article_number",
         "rawType": "int64",
         "type": "integer"
        },
        {
         "name": "article_title",
         "rawType": "object",
         "type": "string"
        },
        {
         "name": "section_number",
         "rawType": "object",
         "type": "string"
        },
        {
         "name": "section_text",
         "rawType": "object",
         "type": "string"
        }
       ],
       "ref": "01919dd0-e913-4c0f-ae2d-bed8bdf7ee55",
       "rows": [
        [
         "0",
         "1",
         "Subject-matter and objectives",
         "1.",
         "This Regulation lays down rules relating to the protection of natural persons with regard to the processing of personal data and rules relating to the free movement of personal data."
        ],
        [
         "1",
         "1",
         "Subject-matter and objectives",
         "2.",
         "This Regulation protects fundamental rights and freedoms of natural persons and in particular their right to the protection of personal data."
        ],
        [
         "2",
         "1",
         "Subject-matter and objectives",
         "3.",
         "The free movement of personal data within the Union shall be neither restricted nor prohibited for reasons connected with the protection of natural persons with regard to the processing of personal data."
        ],
        [
         "3",
         "2",
         "Material scope",
         "1.",
         "This Regulation applies to the processing of personal data wholly or partly by automated means and to the processing other than by automated means of personal data which form part of a filing system or are intended to form part of a filing system."
        ],
        [
         "4",
         "2",
         "Material scope",
         "2.",
         "This Regulation does not apply to the processing of personal data: in the course of an activity which falls outside the scope of Union law; by the Member States when carrying out activities which fall within the scope of Chapter 2 of Title V of the TEU ; by a natural person in the course of a purely personal or household activity; by competent authorities for the purposes of the prevention, investigation, detection or prosecution of criminal offences or the execution of criminal penalties, including the safeguarding against and the prevention of threats to public security."
        ]
       ],
       "shape": {
        "columns": 4,
        "rows": 5
       }
      },
      "text/html": [
       "<div>\n",
       "<style scoped>\n",
       "    .dataframe tbody tr th:only-of-type {\n",
       "        vertical-align: middle;\n",
       "    }\n",
       "\n",
       "    .dataframe tbody tr th {\n",
       "        vertical-align: top;\n",
       "    }\n",
       "\n",
       "    .dataframe thead th {\n",
       "        text-align: right;\n",
       "    }\n",
       "</style>\n",
       "<table border=\"1\" class=\"dataframe\">\n",
       "  <thead>\n",
       "    <tr style=\"text-align: right;\">\n",
       "      <th></th>\n",
       "      <th>article_number</th>\n",
       "      <th>article_title</th>\n",
       "      <th>section_number</th>\n",
       "      <th>section_text</th>\n",
       "    </tr>\n",
       "  </thead>\n",
       "  <tbody>\n",
       "    <tr>\n",
       "      <th>0</th>\n",
       "      <td>1</td>\n",
       "      <td>Subject-matter and objectives</td>\n",
       "      <td>1.</td>\n",
       "      <td>This Regulation lays down rules relating to th...</td>\n",
       "    </tr>\n",
       "    <tr>\n",
       "      <th>1</th>\n",
       "      <td>1</td>\n",
       "      <td>Subject-matter and objectives</td>\n",
       "      <td>2.</td>\n",
       "      <td>This Regulation protects fundamental rights an...</td>\n",
       "    </tr>\n",
       "    <tr>\n",
       "      <th>2</th>\n",
       "      <td>1</td>\n",
       "      <td>Subject-matter and objectives</td>\n",
       "      <td>3.</td>\n",
       "      <td>The free movement of personal data within the ...</td>\n",
       "    </tr>\n",
       "    <tr>\n",
       "      <th>3</th>\n",
       "      <td>2</td>\n",
       "      <td>Material scope</td>\n",
       "      <td>1.</td>\n",
       "      <td>This Regulation applies to the processing of p...</td>\n",
       "    </tr>\n",
       "    <tr>\n",
       "      <th>4</th>\n",
       "      <td>2</td>\n",
       "      <td>Material scope</td>\n",
       "      <td>2.</td>\n",
       "      <td>This Regulation does not apply to the processi...</td>\n",
       "    </tr>\n",
       "  </tbody>\n",
       "</table>\n",
       "</div>"
      ],
      "text/plain": [
       "   article_number                  article_title section_number  \\\n",
       "0               1  Subject-matter and objectives             1.   \n",
       "1               1  Subject-matter and objectives             2.   \n",
       "2               1  Subject-matter and objectives             3.   \n",
       "3               2                 Material scope             1.   \n",
       "4               2                 Material scope             2.   \n",
       "\n",
       "                                        section_text  \n",
       "0  This Regulation lays down rules relating to th...  \n",
       "1  This Regulation protects fundamental rights an...  \n",
       "2  The free movement of personal data within the ...  \n",
       "3  This Regulation applies to the processing of p...  \n",
       "4  This Regulation does not apply to the processi...  "
      ]
     },
     "execution_count": 8,
     "metadata": {},
     "output_type": "execute_result"
    }
   ],
   "source": [
    "with open('gdpr_articles_baseline.json', 'r', encoding='utf-8') as f:\n",
    "    gdpr_data = json.load(f)\n",
    "\n",
    "# Flatten the structure\n",
    "flattened = []\n",
    "for article in gdpr_data:\n",
    "    for section in article['sections']:\n",
    "        for sec_num, sec_text in section.items():\n",
    "            flattened.append({\n",
    "                \"article_number\": article['article_number'],\n",
    "                \"article_title\": article['article_title'],\n",
    "                \"section_number\": sec_num,\n",
    "                \"section_text\": sec_text\n",
    "            })\n",
    "\n",
    "gdpr_df = pd.DataFrame(flattened)\n",
    "gdpr_df.head()"
   ]
  },
  {
   "cell_type": "code",
   "execution_count": 9,
   "metadata": {},
   "outputs": [
    {
     "data": {
      "application/vnd.microsoft.datawrangler.viewer.v0+json": {
       "columns": [
        {
         "name": "index",
         "rawType": "int64",
         "type": "integer"
        },
        {
         "name": "article_number",
         "rawType": "int64",
         "type": "integer"
        },
        {
         "name": "article_title",
         "rawType": "object",
         "type": "string"
        },
        {
         "name": "section_number",
         "rawType": "object",
         "type": "string"
        },
        {
         "name": "section_text",
         "rawType": "object",
         "type": "string"
        }
       ],
       "ref": "589d211b-a6b9-4eeb-952e-a45377854425",
       "rows": [
        [
         "49",
         "5",
         "Principles relating to processing of personal data",
         "1.",
         "Personal data shall be: processed lawfully, fairly and in a transparent manner in relation to the data subject (‘lawfulness, fairness and transparency’); collected for specified, explicit and legitimate purposes and not further processed in a manner that is incompatible with those purposes; further processing for archiving purposes in the public interest, scientific or historical research purposes or statistical purposes shall, in accordance with Article 89 (1), not be considered to be incompatible with the initial purposes (‘purpose limitation’); adequate, relevant and limited to what is necessary in relation to the purposes for which they are processed (‘data minimisation’); accurate and, where necessary, kept up to date; every reasonable step must be taken to ensure that personal data that are inaccurate, having regard to the purposes for which they are processed, are erased or rectified without delay (‘accuracy’); kept in a form which permits identification of data subjects for no longer than is necessary for the purposes for which the personal data are processed; personal data may be stored for longer periods insofar as the personal data will be processed solely for archiving purposes in the public interest, scientific or historical research purposes or statistical purposes in accordance with Article 89( 1) subject to implementation of the appropriate technical and organisational measures required by this Regulation in order to safeguard the rights and freedoms of the data subject (‘storage limitation’); processed in a manner that ensures appropriate security of the personal data, including protection against unauthorised or unlawful processing and against accidental loss, destruction or damage, using appropriate technical or organisational measures (‘integrity and confidentiality’)."
        ],
        [
         "50",
         "5",
         "Principles relating to processing of personal data",
         "2.",
         "processed lawfully, fairly and in a transparent manner in relation to the data subject (‘lawfulness, fairness and transparency’);"
        ],
        [
         "51",
         "5",
         "Principles relating to processing of personal data",
         "3.",
         "collected for specified, explicit and legitimate purposes and not further processed in a manner that is incompatible with those purposes; further processing for archiving purposes in the public interest, scientific or historical research purposes or statistical purposes shall, in accordance with Article 89 (1), not be considered to be incompatible with the initial purposes (‘purpose limitation’);"
        ],
        [
         "52",
         "5",
         "Principles relating to processing of personal data",
         "4.",
         "adequate, relevant and limited to what is necessary in relation to the purposes for which they are processed (‘data minimisation’);"
        ],
        [
         "53",
         "5",
         "Principles relating to processing of personal data",
         "5.",
         "accurate and, where necessary, kept up to date; every reasonable step must be taken to ensure that personal data that are inaccurate, having regard to the purposes for which they are processed, are erased or rectified without delay (‘accuracy’);"
        ],
        [
         "54",
         "5",
         "Principles relating to processing of personal data",
         "6.",
         "kept in a form which permits identification of data subjects for no longer than is necessary for the purposes for which the personal data are processed; personal data may be stored for longer periods insofar as the personal data will be processed solely for archiving purposes in the public interest, scientific or historical research purposes or statistical purposes in accordance with Article 89( 1) subject to implementation of the appropriate technical and organisational measures required by this Regulation in order to safeguard the rights and freedoms of the data subject (‘storage limitation’);"
        ],
        [
         "55",
         "5",
         "Principles relating to processing of personal data",
         "7.",
         "processed in a manner that ensures appropriate security of the personal data, including protection against unauthorised or unlawful processing and against accidental loss, destruction or damage, using appropriate technical or organisational measures (‘integrity and confidentiality’)."
        ],
        [
         "56",
         "5",
         "Principles relating to processing of personal data",
         "8.",
         "The controller shall be responsible for, and be able to demonstrate compliance with, paragraph 1 (‘accountability’)."
        ],
        [
         "57",
         "6",
         "Lawfulness of processing",
         "1.",
         "Processing shall be lawful only if and to the extent that at least one of the following applies: the data subject has given consent to the processing of his or her personal data for one or more specific purposes; processing is necessary for the performance of a contract to which the data subject is party or in order to take steps at the request of the data subject prior to entering into a contract; processing is necessary for compliance with a legal obligation to which the controller is subject; processing is necessary in order to protect the vital interests of the data subject or of another natural person; processing is necessary for the performance of a task carried out in the public interest or in the exercise of official authority vested in the controller; processing is necessary for the purposes of the legitimate interests pursued by the controller or by a third party, except where such interests are overridden by the interests or fundamental rights and freedoms of the data subject which require protection of personal data, in particular where the data subject is a child. Point (f) of the first subparagraph shall not apply to processing carried out by public authorities in the performance of their tasks."
        ],
        [
         "58",
         "6",
         "Lawfulness of processing",
         "2.",
         "the data subject has given consent to the processing of his or her personal data for one or more specific purposes;"
        ],
        [
         "59",
         "6",
         "Lawfulness of processing",
         "3.",
         "processing is necessary for the performance of a contract to which the data subject is party or in order to take steps at the request of the data subject prior to entering into a contract;"
        ],
        [
         "60",
         "6",
         "Lawfulness of processing",
         "4.",
         "processing is necessary for compliance with a legal obligation to which the controller is subject;"
        ],
        [
         "61",
         "6",
         "Lawfulness of processing",
         "5.",
         "processing is necessary in order to protect the vital interests of the data subject or of another natural person;"
        ],
        [
         "62",
         "6",
         "Lawfulness of processing",
         "6.",
         "processing is necessary for the performance of a task carried out in the public interest or in the exercise of official authority vested in the controller;"
        ],
        [
         "63",
         "6",
         "Lawfulness of processing",
         "7.",
         "processing is necessary for the purposes of the legitimate interests pursued by the controller or by a third party, except where such interests are overridden by the interests or fundamental rights and freedoms of the data subject which require protection of personal data, in particular where the data subject is a child."
        ],
        [
         "64",
         "6",
         "Lawfulness of processing",
         "8.",
         "Member States may maintain or introduce more specific provisions to adapt the application of the rules of this Regulation with regard to processing for compliance with points (c) and (e) of paragraph 1 by determining more precisely specific requirements for the processing and other measures to ensure lawful and fair processing including for other specific processing situations as provided for in Chapter IX ."
        ],
        [
         "65",
         "6",
         "Lawfulness of processing",
         "9.",
         "1 The basis for the processing referred to in point (c) and (e) of paragraph 1 shall be laid down by: Union law; or Member State law to which the controller is subject. 2 The purpose of the processing shall be determined in that legal basis or, as regards the processing referred to in point (e) of paragraph 1, shall be necessary for the performance of a task carried out in the public interest or in the exercise of official authority vested in the controller. 3 That legal basis may contain specific provisions to adapt the application of rules of this Regulation, inter alia: the general conditions governing the lawfulness of processing by the controller; the types of data which are subject to the processing; the data subjects concerned; the entities to, and the purposes for which, the personal data may be disclosed; the purpose limitation; storage periods; and processing operations and processing procedures, including measures to ensure lawful and fair processing such as those for other specific processing situations as provided for in Chapter IX . 4 The Union or the Member State law shall meet an objective of public interest and be proportionate to the legitimate aim pursued."
        ],
        [
         "66",
         "6",
         "Lawfulness of processing",
         "10.",
         "Union law; or"
        ],
        [
         "67",
         "6",
         "Lawfulness of processing",
         "11.",
         "Member State law to which the controller is subject."
        ],
        [
         "68",
         "6",
         "Lawfulness of processing",
         "12.",
         "Where the processing for a purpose other than that for which the personal data have been collected is not based on the data subject’s consent or on a Union or Member State law which constitutes a necessary and proportionate measure in a democratic society to safeguard the objectives referred to in Article 23 (1), the controller shall, in order to ascertain whether processing for another purpose is compatible with the purpose for which the personal data are initially collected, take into account, inter alia: any link between the purposes for which the personal data have been collected and the purposes of the intended further processing; the context in which the personal data have been collected, in particular regarding the relationship between data subjects and the controller; the nature of the personal data, in particular whether special categories of personal data are processed, pursuant to Article 9 , or whether personal data related to criminal convictions and offences are processed, pursuant to Article 10 ; the possible consequences of the intended further processing for data subjects; the existence of appropriate safeguards, which may include encryption or pseudonymisation."
        ],
        [
         "69",
         "6",
         "Lawfulness of processing",
         "13.",
         "any link between the purposes for which the personal data have been collected and the purposes of the intended further processing;"
        ],
        [
         "70",
         "6",
         "Lawfulness of processing",
         "14.",
         "the context in which the personal data have been collected, in particular regarding the relationship between data subjects and the controller;"
        ],
        [
         "71",
         "6",
         "Lawfulness of processing",
         "15.",
         "the nature of the personal data, in particular whether special categories of personal data are processed, pursuant to Article 9 , or whether personal data related to criminal convictions and offences are processed, pursuant to Article 10 ;"
        ],
        [
         "72",
         "6",
         "Lawfulness of processing",
         "16.",
         "the possible consequences of the intended further processing for data subjects;"
        ],
        [
         "73",
         "6",
         "Lawfulness of processing",
         "17.",
         "the existence of appropriate safeguards, which may include encryption or pseudonymisation."
        ],
        [
         "74",
         "7",
         "Conditions for consent",
         "1.",
         "Where processing is based on consent, the controller shall be able to demonstrate that the data subject has consented to processing of his or her personal data."
        ],
        [
         "75",
         "7",
         "Conditions for consent",
         "2.",
         "1 If the data subject’s consent is given in the context of a written declaration which also concerns other matters, the request for consent shall be presented in a manner which is clearly distinguishable from the other matters, in an intelligible and easily accessible form, using clear and plain language. 2 Any part of such a declaration which constitutes an infringement of this Regulation shall not be binding."
        ],
        [
         "76",
         "7",
         "Conditions for consent",
         "3.",
         "1 The data subject shall have the right to withdraw his or her consent at any time. 2 The withdrawal of consent shall not affect the lawfulness of processing based on consent before its withdrawal. 3 Prior to giving consent, the data subject shall be informed thereof. 4 It shall be as easy to withdraw as to give consent."
        ],
        [
         "77",
         "7",
         "Conditions for consent",
         "4.",
         "When assessing whether consent is freely given, utmost account shall be taken of whether, inter alia , the performance of a contract, including the provision of a service, is conditional on consent to the processing of personal data that is not necessary for the performance of that contract."
        ]
       ],
       "shape": {
        "columns": 4,
        "rows": 29
       }
      },
      "text/html": [
       "<div>\n",
       "<style scoped>\n",
       "    .dataframe tbody tr th:only-of-type {\n",
       "        vertical-align: middle;\n",
       "    }\n",
       "\n",
       "    .dataframe tbody tr th {\n",
       "        vertical-align: top;\n",
       "    }\n",
       "\n",
       "    .dataframe thead th {\n",
       "        text-align: right;\n",
       "    }\n",
       "</style>\n",
       "<table border=\"1\" class=\"dataframe\">\n",
       "  <thead>\n",
       "    <tr style=\"text-align: right;\">\n",
       "      <th></th>\n",
       "      <th>article_number</th>\n",
       "      <th>article_title</th>\n",
       "      <th>section_number</th>\n",
       "      <th>section_text</th>\n",
       "    </tr>\n",
       "  </thead>\n",
       "  <tbody>\n",
       "    <tr>\n",
       "      <th>49</th>\n",
       "      <td>5</td>\n",
       "      <td>Principles relating to processing of personal ...</td>\n",
       "      <td>1.</td>\n",
       "      <td>Personal data shall be: processed lawfully, fa...</td>\n",
       "    </tr>\n",
       "    <tr>\n",
       "      <th>50</th>\n",
       "      <td>5</td>\n",
       "      <td>Principles relating to processing of personal ...</td>\n",
       "      <td>2.</td>\n",
       "      <td>processed lawfully, fairly and in a transparen...</td>\n",
       "    </tr>\n",
       "    <tr>\n",
       "      <th>51</th>\n",
       "      <td>5</td>\n",
       "      <td>Principles relating to processing of personal ...</td>\n",
       "      <td>3.</td>\n",
       "      <td>collected for specified, explicit and legitima...</td>\n",
       "    </tr>\n",
       "    <tr>\n",
       "      <th>52</th>\n",
       "      <td>5</td>\n",
       "      <td>Principles relating to processing of personal ...</td>\n",
       "      <td>4.</td>\n",
       "      <td>adequate, relevant and limited to what is nece...</td>\n",
       "    </tr>\n",
       "    <tr>\n",
       "      <th>53</th>\n",
       "      <td>5</td>\n",
       "      <td>Principles relating to processing of personal ...</td>\n",
       "      <td>5.</td>\n",
       "      <td>accurate and, where necessary, kept up to date...</td>\n",
       "    </tr>\n",
       "    <tr>\n",
       "      <th>54</th>\n",
       "      <td>5</td>\n",
       "      <td>Principles relating to processing of personal ...</td>\n",
       "      <td>6.</td>\n",
       "      <td>kept in a form which permits identification of...</td>\n",
       "    </tr>\n",
       "    <tr>\n",
       "      <th>55</th>\n",
       "      <td>5</td>\n",
       "      <td>Principles relating to processing of personal ...</td>\n",
       "      <td>7.</td>\n",
       "      <td>processed in a manner that ensures appropriate...</td>\n",
       "    </tr>\n",
       "    <tr>\n",
       "      <th>56</th>\n",
       "      <td>5</td>\n",
       "      <td>Principles relating to processing of personal ...</td>\n",
       "      <td>8.</td>\n",
       "      <td>The controller shall be responsible for, and b...</td>\n",
       "    </tr>\n",
       "    <tr>\n",
       "      <th>57</th>\n",
       "      <td>6</td>\n",
       "      <td>Lawfulness of processing</td>\n",
       "      <td>1.</td>\n",
       "      <td>Processing shall be lawful only if and to the ...</td>\n",
       "    </tr>\n",
       "    <tr>\n",
       "      <th>58</th>\n",
       "      <td>6</td>\n",
       "      <td>Lawfulness of processing</td>\n",
       "      <td>2.</td>\n",
       "      <td>the data subject has given consent to the proc...</td>\n",
       "    </tr>\n",
       "    <tr>\n",
       "      <th>59</th>\n",
       "      <td>6</td>\n",
       "      <td>Lawfulness of processing</td>\n",
       "      <td>3.</td>\n",
       "      <td>processing is necessary for the performance of...</td>\n",
       "    </tr>\n",
       "    <tr>\n",
       "      <th>60</th>\n",
       "      <td>6</td>\n",
       "      <td>Lawfulness of processing</td>\n",
       "      <td>4.</td>\n",
       "      <td>processing is necessary for compliance with a ...</td>\n",
       "    </tr>\n",
       "    <tr>\n",
       "      <th>61</th>\n",
       "      <td>6</td>\n",
       "      <td>Lawfulness of processing</td>\n",
       "      <td>5.</td>\n",
       "      <td>processing is necessary in order to protect th...</td>\n",
       "    </tr>\n",
       "    <tr>\n",
       "      <th>62</th>\n",
       "      <td>6</td>\n",
       "      <td>Lawfulness of processing</td>\n",
       "      <td>6.</td>\n",
       "      <td>processing is necessary for the performance of...</td>\n",
       "    </tr>\n",
       "    <tr>\n",
       "      <th>63</th>\n",
       "      <td>6</td>\n",
       "      <td>Lawfulness of processing</td>\n",
       "      <td>7.</td>\n",
       "      <td>processing is necessary for the purposes of th...</td>\n",
       "    </tr>\n",
       "    <tr>\n",
       "      <th>64</th>\n",
       "      <td>6</td>\n",
       "      <td>Lawfulness of processing</td>\n",
       "      <td>8.</td>\n",
       "      <td>Member States may maintain or introduce more s...</td>\n",
       "    </tr>\n",
       "    <tr>\n",
       "      <th>65</th>\n",
       "      <td>6</td>\n",
       "      <td>Lawfulness of processing</td>\n",
       "      <td>9.</td>\n",
       "      <td>1 The basis for the processing referred to in ...</td>\n",
       "    </tr>\n",
       "    <tr>\n",
       "      <th>66</th>\n",
       "      <td>6</td>\n",
       "      <td>Lawfulness of processing</td>\n",
       "      <td>10.</td>\n",
       "      <td>Union law; or</td>\n",
       "    </tr>\n",
       "    <tr>\n",
       "      <th>67</th>\n",
       "      <td>6</td>\n",
       "      <td>Lawfulness of processing</td>\n",
       "      <td>11.</td>\n",
       "      <td>Member State law to which the controller is su...</td>\n",
       "    </tr>\n",
       "    <tr>\n",
       "      <th>68</th>\n",
       "      <td>6</td>\n",
       "      <td>Lawfulness of processing</td>\n",
       "      <td>12.</td>\n",
       "      <td>Where the processing for a purpose other than ...</td>\n",
       "    </tr>\n",
       "    <tr>\n",
       "      <th>69</th>\n",
       "      <td>6</td>\n",
       "      <td>Lawfulness of processing</td>\n",
       "      <td>13.</td>\n",
       "      <td>any link between the purposes for which the pe...</td>\n",
       "    </tr>\n",
       "    <tr>\n",
       "      <th>70</th>\n",
       "      <td>6</td>\n",
       "      <td>Lawfulness of processing</td>\n",
       "      <td>14.</td>\n",
       "      <td>the context in which the personal data have be...</td>\n",
       "    </tr>\n",
       "    <tr>\n",
       "      <th>71</th>\n",
       "      <td>6</td>\n",
       "      <td>Lawfulness of processing</td>\n",
       "      <td>15.</td>\n",
       "      <td>the nature of the personal data, in particular...</td>\n",
       "    </tr>\n",
       "    <tr>\n",
       "      <th>72</th>\n",
       "      <td>6</td>\n",
       "      <td>Lawfulness of processing</td>\n",
       "      <td>16.</td>\n",
       "      <td>the possible consequences of the intended furt...</td>\n",
       "    </tr>\n",
       "    <tr>\n",
       "      <th>73</th>\n",
       "      <td>6</td>\n",
       "      <td>Lawfulness of processing</td>\n",
       "      <td>17.</td>\n",
       "      <td>the existence of appropriate safeguards, which...</td>\n",
       "    </tr>\n",
       "    <tr>\n",
       "      <th>74</th>\n",
       "      <td>7</td>\n",
       "      <td>Conditions for consent</td>\n",
       "      <td>1.</td>\n",
       "      <td>Where processing is based on consent, the cont...</td>\n",
       "    </tr>\n",
       "    <tr>\n",
       "      <th>75</th>\n",
       "      <td>7</td>\n",
       "      <td>Conditions for consent</td>\n",
       "      <td>2.</td>\n",
       "      <td>1 If the data subject’s consent is given in th...</td>\n",
       "    </tr>\n",
       "    <tr>\n",
       "      <th>76</th>\n",
       "      <td>7</td>\n",
       "      <td>Conditions for consent</td>\n",
       "      <td>3.</td>\n",
       "      <td>1 The data subject shall have the right to wit...</td>\n",
       "    </tr>\n",
       "    <tr>\n",
       "      <th>77</th>\n",
       "      <td>7</td>\n",
       "      <td>Conditions for consent</td>\n",
       "      <td>4.</td>\n",
       "      <td>When assessing whether consent is freely given...</td>\n",
       "    </tr>\n",
       "  </tbody>\n",
       "</table>\n",
       "</div>"
      ],
      "text/plain": [
       "    article_number                                      article_title  \\\n",
       "49               5  Principles relating to processing of personal ...   \n",
       "50               5  Principles relating to processing of personal ...   \n",
       "51               5  Principles relating to processing of personal ...   \n",
       "52               5  Principles relating to processing of personal ...   \n",
       "53               5  Principles relating to processing of personal ...   \n",
       "54               5  Principles relating to processing of personal ...   \n",
       "55               5  Principles relating to processing of personal ...   \n",
       "56               5  Principles relating to processing of personal ...   \n",
       "57               6                           Lawfulness of processing   \n",
       "58               6                           Lawfulness of processing   \n",
       "59               6                           Lawfulness of processing   \n",
       "60               6                           Lawfulness of processing   \n",
       "61               6                           Lawfulness of processing   \n",
       "62               6                           Lawfulness of processing   \n",
       "63               6                           Lawfulness of processing   \n",
       "64               6                           Lawfulness of processing   \n",
       "65               6                           Lawfulness of processing   \n",
       "66               6                           Lawfulness of processing   \n",
       "67               6                           Lawfulness of processing   \n",
       "68               6                           Lawfulness of processing   \n",
       "69               6                           Lawfulness of processing   \n",
       "70               6                           Lawfulness of processing   \n",
       "71               6                           Lawfulness of processing   \n",
       "72               6                           Lawfulness of processing   \n",
       "73               6                           Lawfulness of processing   \n",
       "74               7                             Conditions for consent   \n",
       "75               7                             Conditions for consent   \n",
       "76               7                             Conditions for consent   \n",
       "77               7                             Conditions for consent   \n",
       "\n",
       "   section_number                                       section_text  \n",
       "49             1.  Personal data shall be: processed lawfully, fa...  \n",
       "50             2.  processed lawfully, fairly and in a transparen...  \n",
       "51             3.  collected for specified, explicit and legitima...  \n",
       "52             4.  adequate, relevant and limited to what is nece...  \n",
       "53             5.  accurate and, where necessary, kept up to date...  \n",
       "54             6.  kept in a form which permits identification of...  \n",
       "55             7.  processed in a manner that ensures appropriate...  \n",
       "56             8.  The controller shall be responsible for, and b...  \n",
       "57             1.  Processing shall be lawful only if and to the ...  \n",
       "58             2.  the data subject has given consent to the proc...  \n",
       "59             3.  processing is necessary for the performance of...  \n",
       "60             4.  processing is necessary for compliance with a ...  \n",
       "61             5.  processing is necessary in order to protect th...  \n",
       "62             6.  processing is necessary for the performance of...  \n",
       "63             7.  processing is necessary for the purposes of th...  \n",
       "64             8.  Member States may maintain or introduce more s...  \n",
       "65             9.  1 The basis for the processing referred to in ...  \n",
       "66            10.                                      Union law; or  \n",
       "67            11.  Member State law to which the controller is su...  \n",
       "68            12.  Where the processing for a purpose other than ...  \n",
       "69            13.  any link between the purposes for which the pe...  \n",
       "70            14.  the context in which the personal data have be...  \n",
       "71            15.  the nature of the personal data, in particular...  \n",
       "72            16.  the possible consequences of the intended furt...  \n",
       "73            17.  the existence of appropriate safeguards, which...  \n",
       "74             1.  Where processing is based on consent, the cont...  \n",
       "75             2.  1 If the data subject’s consent is given in th...  \n",
       "76             3.  1 The data subject shall have the right to wit...  \n",
       "77             4.  When assessing whether consent is freely given...  "
      ]
     },
     "execution_count": 9,
     "metadata": {},
     "output_type": "execute_result"
    }
   ],
   "source": [
    "# Filtering only articles 5-7 \n",
    "gdpr_df = gdpr_df.loc[gdpr_df['article_number'].isin([5, 6, 7])]\n",
    "gdpr_df"
   ]
  },
  {
   "cell_type": "code",
   "execution_count": 10,
   "metadata": {},
   "outputs": [
    {
     "data": {
      "application/vnd.microsoft.datawrangler.viewer.v0+json": {
       "columns": [
        {
         "name": "index",
         "rawType": "int64",
         "type": "integer"
        },
        {
         "name": "section_title",
         "rawType": "object",
         "type": "string"
        },
        {
         "name": "section_text",
         "rawType": "object",
         "type": "string"
        }
       ],
       "ref": "2b5ea016-6780-4d4d-932c-c37a9ec63871",
       "rows": [
        [
         "0",
         "1. Who is the responsible controller for the data processing and whom you may contact?",
         "The party responsible for processing data (“controller”) is: IKEA Möbelvertrieb OHG (“IKEA”)Legal entity: Offene Handelsgesellschaft [General commercial partnership]Registered office: Shopping City Süd, Südring, 2334 VösendorfCompany registration number: FN 316 sCommercial court of registration: Wiener Neustadt Regional CourtVAT ID number: ATU19420008ARA licence No.: 4838 Do not hesitate to contact us at the following address if you have any questions or concerns as to how we process your data, or if you find an error on our website or app:IKEA Kundenservice Österreich(IKEA Customer Service, Austria)2334 Vösendorf-SüdTel.: +43 800 081100E-mail for retail customers: customer.support.at@ikea.comE-mail for business customers: business.support.at@ikea.com Or use our contact forms: General enquiry about processing personal dataBug report concerning our website or iOS/Android app"
        ],
        [
         "1",
         "2. What data is being processed and from which sources do these stem from?",
         "We process the data that we receive from you in our business relationship. This includes the data you enter when registering with us or when you visit our website at https://www.ikea.com/at/. We also process the data we receive from our contractors and credit agencies, specifically KSV 1870. We will never collect or process special categories of personal data. Personal data includes: Your personal details such as your name, address, e-mail address, phone number, date of birth, and genderInformation on your family status and living conditions such as your marital status, name and date of birth of children, apartment, size, and fittings if specified by you when you register for IKEA FamilyInformation on a company you run such as your industrial specialisation, legal entity, year of establishment, number of employees, ATU and commercial register data if you provide it when registering for IKEA for Business.Information on your IKEA purchases such as your IKEA Family or IKEA for Business number, store, receipt number, date and time of purchase, item, quantity and priceInformation on the payment method you used such as your credit card company and number, name of the credit data owner, period of validity, and CRC number.Visual data with time and location during your visit at one of our IKEA stores if you have been in an area with surveillance."
        ],
        [
         "2",
         "3. For which purpose and for how long is the data being processed?",
         "We  process your data for specific purposes and for a specific duration according to the data protection laws and legal regulations. Please find below the most important purposes and respective processing periods below. If we collect data from your for purposes which go beyond We will separately inform you of any data we collect from you for purposes that go beyond this when we collect the data:"
        ],
        [
         "3",
         "4. On which legal basis is personal data being processed?",
         "4.1 On grounds of consent – Art 6 para 1 lit a GDPR: We will only process your personal data according to the purposes specified in the respective declaration of consent and to the extent agreed after you have given us your consent for us to process your data. You may revoke your consent in writing at any time with effect for the future by e-mail or letter to the contact address given in Pt. 1. Revocation of consent shall not affect the lawfulness of processing your data before revocation. 4.2 To fulfil contractual obligations – GDPR Art 6.1 (b): We will process your data in order to fulfil our contractual obligations towards you. For example, we will need your name and address in order to send you the goods you have ordered online and to send you an invoice for your order. As another example, we will need your e-mail address or phone number to contact you if there are difficulties in delivering your order or to respond to any requests or enquiries you may have made. 4.3 To fulfil statutory obligations – GDPR Art 6.1 (c): Statutory obligations may require us to process your data, especially retention of business correspondence and contract documents. These obligations may arise from the following laws, amongst others: Austrian Commercial Code (UGB)Austrian Federal Fiscal Code (BAO)Austrian Civil Code (ABGB) 4.4 To protect legitimate interests – GDPR Art 6.1 (f): We may process your personal data as necessary to safeguard our legitimate interests or the legitimate interests of a third party: As an example, we may need to process your date of birth in order to identify you and avoid confusion with other customers of the same name. This may be necessary to ensure that we have only stored you once in our database.A  legitimateinterest in processing your personal data also applies for our own and third-party marketing purposes, customer loyalty, and direct advertising where legally permissible. As an example, we may process your purchasing data from your IKEA Family membership in order to thank you for your loyalty to IKEA with special offer tokens.We may also process your data from enquiries to customer service to be able to respond to your enquiry or request more quickly and effectively.We also have a  legitimate interest in processing your data for administration purposes within theIKEA Groupand in litigation.We may also process your data with credit agencies to determine your creditworthiness and default risk or to process enquiries or requests you have made towards us.Apart from that, we will also ask you for your opinion on the products you have purchased in our IKEA service ratings and review surveys. This serves our policy of constant improvement in our product range and services, and helps other customers make a decision on their purchases.We will process your MAC address when you use our free IKEA WiFi service in order to provide you with this free service, and also to log users in the event of legal claims or to investigate criminal offences.Data processing from video surveillance serves our  legitimateinterests in protecting our customers, the safety of our co-workers, our products and property, and fulfilling our legal duty of care including gathering and securing evidence, with evaluation only taking place as defined by the purpose of data processing in each specific case. We may therefore process your data on the basis of our  legitimateinterests in addition to your consent as a legal basis, that is, even if you have revoked your consent."
        ],
        [
         "4",
         "5. Who will be receiving your data?",
         "Your data will be passed on to the following recipients: Contractors such as IT and payment service companies, suppliers, and freight companies that we have commissioned as data processors to the extent that they require your data to perform services that we have ordered from them. These contractors are contractually obliged to treat your data confidentially and only process the data to the extent necessary to provide the services ordered.Our co-workers and other parties in IKEA Möbelvertrieb OHG and the IKEA company group will receive your data that they need to fulfil their respective contractual and statutory obligations or protect our vested interests.If legally required to do so, we will also pass your data on to public bodies and authorities.We may also pass your data on to the following recipients as necessary on a case-by-case basis:- To secure evidence in criminal cases: Law enforcement and courts- For security purposes: Law enforcement- To secure evidence in civil matters: Courts- To process insurance claims: Insurance companies- For law legal purposes: Lawyers, authorities and other authorities."
        ],
        [
         "5",
         "6. Are you obliged to provide data?",
         "You will need to give us your data for us to be able to fulfil our contractual obligations and provide our optional benefits and or free services for you – your purchases, IKEA for Business or IKEA Family membership, IKEA Family newsletter, or our free WiFi service. This data will include, for example, your name and address for us to deliver your order and send you your invoice. Necessary data entries are marked with an asterisk* on mandatory fields. We will usually not be able to provide the service you have requested, such as a purchase or membership, unless you give us this necessary data. Providing your visual data  is optional but remember that we will need to process your data for the purposes given above if you access areas of our IKEA stores with video surveillance as clearly marked out in the store."
        ],
        [
         "6",
         "7. Is there automated decision-making including profiling?",
         "We will not use automated decision-making according to Art 22 GDPR in order to establish and maintain business relationships or make other decisions that would significantly affect you in a similar way."
        ],
        [
         "7",
         "8. Your rights in processing your personal data",
         "You may (i) demand disclosure on whether and what personal information we have stored on you and request copies of your data, (ii) demand correction, supplementation or deletion of your personal data if incorrect or processed so as to violate statutory regulations, (iii) demand that we restrict your personal data from being processed, (iv) object to the use of your personal data for processing or revoke consent you have previously granted, (v) request the data that you have given us in a transferable format, (vi) lodge a complaint to the Austrian data protection authority (www.dsb.gv.at). Contact us via thiscontact formor send us a letter by post using the above contact addresses in order to assert any of the rights stated above."
        ]
       ],
       "shape": {
        "columns": 2,
        "rows": 8
       }
      },
      "text/html": [
       "<div>\n",
       "<style scoped>\n",
       "    .dataframe tbody tr th:only-of-type {\n",
       "        vertical-align: middle;\n",
       "    }\n",
       "\n",
       "    .dataframe tbody tr th {\n",
       "        vertical-align: top;\n",
       "    }\n",
       "\n",
       "    .dataframe thead th {\n",
       "        text-align: right;\n",
       "    }\n",
       "</style>\n",
       "<table border=\"1\" class=\"dataframe\">\n",
       "  <thead>\n",
       "    <tr style=\"text-align: right;\">\n",
       "      <th></th>\n",
       "      <th>section_title</th>\n",
       "      <th>section_text</th>\n",
       "    </tr>\n",
       "  </thead>\n",
       "  <tbody>\n",
       "    <tr>\n",
       "      <th>0</th>\n",
       "      <td>1. Who is the responsible controller for the d...</td>\n",
       "      <td>The party responsible for processing data (“co...</td>\n",
       "    </tr>\n",
       "    <tr>\n",
       "      <th>1</th>\n",
       "      <td>2. What data is being processed and from which...</td>\n",
       "      <td>We process the data that we receive from you i...</td>\n",
       "    </tr>\n",
       "    <tr>\n",
       "      <th>2</th>\n",
       "      <td>3. For which purpose and for how long is the d...</td>\n",
       "      <td>We  process your data for specific purposes an...</td>\n",
       "    </tr>\n",
       "    <tr>\n",
       "      <th>3</th>\n",
       "      <td>4. On which legal basis is personal data being...</td>\n",
       "      <td>4.1 On grounds of consent – Art 6 para 1 lit a...</td>\n",
       "    </tr>\n",
       "    <tr>\n",
       "      <th>4</th>\n",
       "      <td>5. Who will be receiving your data?</td>\n",
       "      <td>Your data will be passed on to the following r...</td>\n",
       "    </tr>\n",
       "    <tr>\n",
       "      <th>5</th>\n",
       "      <td>6. Are you obliged to provide data?</td>\n",
       "      <td>You will need to give us your data for us to b...</td>\n",
       "    </tr>\n",
       "    <tr>\n",
       "      <th>6</th>\n",
       "      <td>7. Is there automated decision-making includin...</td>\n",
       "      <td>We will not use automated decision-making acco...</td>\n",
       "    </tr>\n",
       "    <tr>\n",
       "      <th>7</th>\n",
       "      <td>8. Your rights in processing your personal data</td>\n",
       "      <td>You may (i) demand disclosure on whether and w...</td>\n",
       "    </tr>\n",
       "  </tbody>\n",
       "</table>\n",
       "</div>"
      ],
      "text/plain": [
       "                                       section_title  \\\n",
       "0  1. Who is the responsible controller for the d...   \n",
       "1  2. What data is being processed and from which...   \n",
       "2  3. For which purpose and for how long is the d...   \n",
       "3  4. On which legal basis is personal data being...   \n",
       "4                5. Who will be receiving your data?   \n",
       "5                6. Are you obliged to provide data?   \n",
       "6  7. Is there automated decision-making includin...   \n",
       "7    8. Your rights in processing your personal data   \n",
       "\n",
       "                                        section_text  \n",
       "0  The party responsible for processing data (“co...  \n",
       "1  We process the data that we receive from you i...  \n",
       "2  We  process your data for specific purposes an...  \n",
       "3  4.1 On grounds of consent – Art 6 para 1 lit a...  \n",
       "4  Your data will be passed on to the following r...  \n",
       "5  You will need to give us your data for us to b...  \n",
       "6  We will not use automated decision-making acco...  \n",
       "7  You may (i) demand disclosure on whether and w...  "
      ]
     },
     "execution_count": 10,
     "metadata": {},
     "output_type": "execute_result"
    }
   ],
   "source": [
    "with open(\"ikea_privacy_policy.json\", encoding=\"utf-8\") as f:\n",
    "    ikea_data = json.load(f)\n",
    "\n",
    "ikea_df = pd.DataFrame(ikea_data)\n",
    "ikea_df"
   ]
  },
  {
   "cell_type": "code",
   "execution_count": 11,
   "metadata": {},
   "outputs": [
    {
     "data": {
      "application/vnd.jupyter.widget-view+json": {
       "model_id": "2e809240f324472e9b1d13f5960f84cf",
       "version_major": 2,
       "version_minor": 0
      },
      "text/plain": [
       "modules.json:   0%|          | 0.00/349 [00:00<?, ?B/s]"
      ]
     },
     "metadata": {},
     "output_type": "display_data"
    },
    {
     "data": {
      "application/vnd.jupyter.widget-view+json": {
       "model_id": "fd771735070e446e9c5c67bd44a4962b",
       "version_major": 2,
       "version_minor": 0
      },
      "text/plain": [
       "config_sentence_transformers.json:   0%|          | 0.00/116 [00:00<?, ?B/s]"
      ]
     },
     "metadata": {},
     "output_type": "display_data"
    },
    {
     "data": {
      "application/vnd.jupyter.widget-view+json": {
       "model_id": "ea88b881495d4ca791396ea491bf71c9",
       "version_major": 2,
       "version_minor": 0
      },
      "text/plain": [
       "README.md:   0%|          | 0.00/10.5k [00:00<?, ?B/s]"
      ]
     },
     "metadata": {},
     "output_type": "display_data"
    },
    {
     "data": {
      "application/vnd.jupyter.widget-view+json": {
       "model_id": "e0b0bfc3114248cda86ad788eefd7379",
       "version_major": 2,
       "version_minor": 0
      },
      "text/plain": [
       "sentence_bert_config.json:   0%|          | 0.00/53.0 [00:00<?, ?B/s]"
      ]
     },
     "metadata": {},
     "output_type": "display_data"
    },
    {
     "data": {
      "application/vnd.jupyter.widget-view+json": {
       "model_id": "dc653dee074b4f00aed595840492aa72",
       "version_major": 2,
       "version_minor": 0
      },
      "text/plain": [
       "config.json:   0%|          | 0.00/612 [00:00<?, ?B/s]"
      ]
     },
     "metadata": {},
     "output_type": "display_data"
    },
    {
     "data": {
      "application/vnd.jupyter.widget-view+json": {
       "model_id": "ca97bc3add1f47eeb4167b6391e0226c",
       "version_major": 2,
       "version_minor": 0
      },
      "text/plain": [
       "model.safetensors:   0%|          | 0.00/90.9M [00:00<?, ?B/s]"
      ]
     },
     "metadata": {},
     "output_type": "display_data"
    },
    {
     "data": {
      "application/vnd.jupyter.widget-view+json": {
       "model_id": "ee281c3d9b6341259343e0e89e897951",
       "version_major": 2,
       "version_minor": 0
      },
      "text/plain": [
       "tokenizer_config.json:   0%|          | 0.00/350 [00:00<?, ?B/s]"
      ]
     },
     "metadata": {},
     "output_type": "display_data"
    },
    {
     "data": {
      "application/vnd.jupyter.widget-view+json": {
       "model_id": "9750d0cae0a84fd997b3aeff09db55ff",
       "version_major": 2,
       "version_minor": 0
      },
      "text/plain": [
       "vocab.txt:   0%|          | 0.00/232k [00:00<?, ?B/s]"
      ]
     },
     "metadata": {},
     "output_type": "display_data"
    },
    {
     "data": {
      "application/vnd.jupyter.widget-view+json": {
       "model_id": "50ff259c63dc45949afd1c1aee172bc4",
       "version_major": 2,
       "version_minor": 0
      },
      "text/plain": [
       "tokenizer.json:   0%|          | 0.00/466k [00:00<?, ?B/s]"
      ]
     },
     "metadata": {},
     "output_type": "display_data"
    },
    {
     "data": {
      "application/vnd.jupyter.widget-view+json": {
       "model_id": "f005e3d96c5942e4ac2776772ca72ae7",
       "version_major": 2,
       "version_minor": 0
      },
      "text/plain": [
       "special_tokens_map.json:   0%|          | 0.00/112 [00:00<?, ?B/s]"
      ]
     },
     "metadata": {},
     "output_type": "display_data"
    },
    {
     "data": {
      "application/vnd.jupyter.widget-view+json": {
       "model_id": "6d28054081db47b5bfa82ed4245113a0",
       "version_major": 2,
       "version_minor": 0
      },
      "text/plain": [
       "config.json:   0%|          | 0.00/190 [00:00<?, ?B/s]"
      ]
     },
     "metadata": {},
     "output_type": "display_data"
    }
   ],
   "source": [
    "model = SentenceTransformer('all-MiniLM-L6-v2')"
   ]
  },
  {
   "cell_type": "code",
   "execution_count": 12,
   "metadata": {},
   "outputs": [],
   "source": [
    "ikea_embeddings = model.encode(ikea_df[\"section_text\"].tolist(), convert_to_tensor=True)\n",
    "gdpr_embeddings = model.encode(gdpr_df[\"section_text\"].tolist(), convert_to_tensor=True)\n"
   ]
  },
  {
   "cell_type": "code",
   "execution_count": 13,
   "metadata": {},
   "outputs": [],
   "source": [
    "cos_sim_matrix = util.cos_sim(ikea_embeddings, gdpr_embeddings).cpu().numpy()\n",
    "\n",
    "# Build similarity DataFrame\n",
    "sim_df = pd.DataFrame(\n",
    "    cos_sim_matrix,\n",
    "    index=ikea_df[\"section_title\"],\n",
    "    columns=[f\"Art. {row.article_number}-{row.section_number}\" for _, row in gdpr_df.iterrows()]\n",
    ")\n"
   ]
  },
  {
   "cell_type": "code",
   "execution_count": 15,
   "metadata": {},
   "outputs": [
    {
     "data": {
      "application/vnd.microsoft.datawrangler.viewer.v0+json": {
       "columns": [
        {
         "name": "section_title",
         "rawType": "object",
         "type": "string"
        },
        {
         "name": "Art. 5-1.",
         "rawType": "float32",
         "type": "float"
        },
        {
         "name": "Art. 5-2.",
         "rawType": "float32",
         "type": "float"
        },
        {
         "name": "Art. 5-3.",
         "rawType": "float32",
         "type": "float"
        },
        {
         "name": "Art. 5-4.",
         "rawType": "float32",
         "type": "float"
        },
        {
         "name": "Art. 5-5.",
         "rawType": "float32",
         "type": "float"
        },
        {
         "name": "Art. 5-6.",
         "rawType": "float32",
         "type": "float"
        },
        {
         "name": "Art. 5-7.",
         "rawType": "float32",
         "type": "float"
        },
        {
         "name": "Art. 5-8.",
         "rawType": "float32",
         "type": "float"
        },
        {
         "name": "Art. 6-1.",
         "rawType": "float32",
         "type": "float"
        },
        {
         "name": "Art. 6-2.",
         "rawType": "float32",
         "type": "float"
        },
        {
         "name": "Art. 6-3.",
         "rawType": "float32",
         "type": "float"
        },
        {
         "name": "Art. 6-4.",
         "rawType": "float32",
         "type": "float"
        },
        {
         "name": "Art. 6-5.",
         "rawType": "float32",
         "type": "float"
        },
        {
         "name": "Art. 6-6.",
         "rawType": "float32",
         "type": "float"
        },
        {
         "name": "Art. 6-7.",
         "rawType": "float32",
         "type": "float"
        },
        {
         "name": "Art. 6-8.",
         "rawType": "float32",
         "type": "float"
        },
        {
         "name": "Art. 6-9.",
         "rawType": "float32",
         "type": "float"
        },
        {
         "name": "Art. 6-10.",
         "rawType": "float32",
         "type": "float"
        },
        {
         "name": "Art. 6-11.",
         "rawType": "float32",
         "type": "float"
        },
        {
         "name": "Art. 6-12.",
         "rawType": "float32",
         "type": "float"
        },
        {
         "name": "Art. 6-13.",
         "rawType": "float32",
         "type": "float"
        },
        {
         "name": "Art. 6-14.",
         "rawType": "float32",
         "type": "float"
        },
        {
         "name": "Art. 6-15.",
         "rawType": "float32",
         "type": "float"
        },
        {
         "name": "Art. 6-16.",
         "rawType": "float32",
         "type": "float"
        },
        {
         "name": "Art. 6-17.",
         "rawType": "float32",
         "type": "float"
        },
        {
         "name": "Art. 7-1.",
         "rawType": "float32",
         "type": "float"
        },
        {
         "name": "Art. 7-2.",
         "rawType": "float32",
         "type": "float"
        },
        {
         "name": "Art. 7-3.",
         "rawType": "float32",
         "type": "float"
        },
        {
         "name": "Art. 7-4.",
         "rawType": "float32",
         "type": "float"
        }
       ],
       "ref": "18579eb2-6236-478a-b9c6-38679b4fcee9",
       "rows": [
        [
         "1. Who is the responsible controller for the data processing and whom you may contact?",
         "0.25722435",
         "0.21305102",
         "0.13816795",
         "0.20589134",
         "0.24027775",
         "0.20894332",
         "0.22728714",
         "0.24637067",
         "0.2612887",
         "0.2823062",
         "0.23394178",
         "0.2615043",
         "0.17603096",
         "0.20931137",
         "0.27526525",
         "0.10445095",
         "0.21754535",
         "-0.02634875",
         "0.11569611",
         "0.25079694",
         "0.20006415",
         "0.2941842",
         "0.15953629",
         "0.11237028",
         "0.080779955",
         "0.30614144",
         "0.20906612",
         "0.1898408",
         "0.24157424"
        ],
        [
         "2. What data is being processed and from which sources do these stem from?",
         "0.40436912",
         "0.2947645",
         "0.21922407",
         "0.25024974",
         "0.28741485",
         "0.37011856",
         "0.30077952",
         "0.16413543",
         "0.22821055",
         "0.38233387",
         "0.23576696",
         "0.16715394",
         "0.21462537",
         "0.15803653",
         "0.2843268",
         "0.1769627",
         "0.29090267",
         "-0.0043908004",
         "0.055465095",
         "0.33575445",
         "0.42816186",
         "0.40755135",
         "0.3735969",
         "0.1595169",
         "0.13954505",
         "0.31917882",
         "0.2428636",
         "0.24981645",
         "0.27105606"
        ],
        [
         "3. For which purpose and for how long is the data being processed?",
         "0.67700624",
         "0.52630854",
         "0.48848456",
         "0.512642",
         "0.5074104",
         "0.6774255",
         "0.58626187",
         "0.22529362",
         "0.50588524",
         "0.64105165",
         "0.51520175",
         "0.37656972",
         "0.570536",
         "0.37137276",
         "0.58339244",
         "0.3479626",
         "0.53382045",
         "0.07659887",
         "0.1196878",
         "0.6352358",
         "0.7069054",
         "0.562108",
         "0.6121086",
         "0.5024071",
         "0.27592483",
         "0.52438873",
         "0.47220266",
         "0.48917067",
         "0.39252245"
        ],
        [
         "4. On which legal basis is personal data being processed?",
         "0.5543314",
         "0.42405793",
         "0.31671742",
         "0.38896257",
         "0.3880916",
         "0.47836894",
         "0.4875962",
         "0.2992316",
         "0.51711816",
         "0.5844499",
         "0.36548084",
         "0.42316797",
         "0.40224794",
         "0.25406036",
         "0.47945786",
         "0.33590317",
         "0.46241915",
         "0.028682329",
         "0.16435227",
         "0.53016746",
         "0.41377077",
         "0.39702693",
         "0.357036",
         "0.299253",
         "0.36202407",
         "0.5330297",
         "0.62309444",
         "0.648719",
         "0.5253953"
        ],
        [
         "5. Who will be receiving your data?",
         "0.41423064",
         "0.41712502",
         "0.21947914",
         "0.3205608",
         "0.32774934",
         "0.41511625",
         "0.46468544",
         "0.27594078",
         "0.33027497",
         "0.4712017",
         "0.2968349",
         "0.26773614",
         "0.31041744",
         "0.19216886",
         "0.40099418",
         "0.20445384",
         "0.32632178",
         "0.099212006",
         "0.15303904",
         "0.3863838",
         "0.37179276",
         "0.41966945",
         "0.32982996",
         "0.24344395",
         "0.2971627",
         "0.3872758",
         "0.39348125",
         "0.34801424",
         "0.34602314"
        ],
        [
         "6. Are you obliged to provide data?",
         "0.34666288",
         "0.30415717",
         "0.21524152",
         "0.3153489",
         "0.27435976",
         "0.3706929",
         "0.3259031",
         "0.21947083",
         "0.27407444",
         "0.40689912",
         "0.22613096",
         "0.21666941",
         "0.27017328",
         "0.18108732",
         "0.36203986",
         "0.18141617",
         "0.24257365",
         "0.03992541",
         "0.09855541",
         "0.27831897",
         "0.34850475",
         "0.3522239",
         "0.26976287",
         "0.21252713",
         "0.23547417",
         "0.36154515",
         "0.29613388",
         "0.26701805",
         "0.28430519"
        ],
        [
         "7. Is there automated decision-making including profiling?",
         "0.33830905",
         "0.24799967",
         "0.24238572",
         "0.281925",
         "0.3334474",
         "0.29502892",
         "0.26520234",
         "0.09109117",
         "0.26583815",
         "0.3642516",
         "0.21910247",
         "0.22177729",
         "0.33576214",
         "0.22475249",
         "0.35224283",
         "0.2000234",
         "0.20958501",
         "0.047769405",
         "0.053818017",
         "0.3322937",
         "0.33898553",
         "0.31180075",
         "0.30915022",
         "0.33213997",
         "0.20200807",
         "0.31454256",
         "0.31881005",
         "0.32497895",
         "0.3246724"
        ],
        [
         "8. Your rights in processing your personal data",
         "0.5035001",
         "0.44334877",
         "0.2763743",
         "0.238047",
         "0.39530474",
         "0.4835052",
         "0.4702751",
         "0.23382813",
         "0.32675964",
         "0.50841594",
         "0.19307967",
         "0.26333517",
         "0.29263505",
         "0.13213235",
         "0.3433519",
         "0.25388563",
         "0.33075148",
         "0.08558607",
         "0.13216117",
         "0.44406146",
         "0.40635312",
         "0.3809604",
         "0.38854507",
         "0.21827841",
         "0.33708423",
         "0.38826358",
         "0.43316415",
         "0.45910835",
         "0.36563608"
        ]
       ],
       "shape": {
        "columns": 29,
        "rows": 8
       }
      },
      "text/html": [
       "<div>\n",
       "<style scoped>\n",
       "    .dataframe tbody tr th:only-of-type {\n",
       "        vertical-align: middle;\n",
       "    }\n",
       "\n",
       "    .dataframe tbody tr th {\n",
       "        vertical-align: top;\n",
       "    }\n",
       "\n",
       "    .dataframe thead th {\n",
       "        text-align: right;\n",
       "    }\n",
       "</style>\n",
       "<table border=\"1\" class=\"dataframe\">\n",
       "  <thead>\n",
       "    <tr style=\"text-align: right;\">\n",
       "      <th></th>\n",
       "      <th>Art. 5-1.</th>\n",
       "      <th>Art. 5-2.</th>\n",
       "      <th>Art. 5-3.</th>\n",
       "      <th>Art. 5-4.</th>\n",
       "      <th>Art. 5-5.</th>\n",
       "      <th>Art. 5-6.</th>\n",
       "      <th>Art. 5-7.</th>\n",
       "      <th>Art. 5-8.</th>\n",
       "      <th>Art. 6-1.</th>\n",
       "      <th>Art. 6-2.</th>\n",
       "      <th>...</th>\n",
       "      <th>Art. 6-12.</th>\n",
       "      <th>Art. 6-13.</th>\n",
       "      <th>Art. 6-14.</th>\n",
       "      <th>Art. 6-15.</th>\n",
       "      <th>Art. 6-16.</th>\n",
       "      <th>Art. 6-17.</th>\n",
       "      <th>Art. 7-1.</th>\n",
       "      <th>Art. 7-2.</th>\n",
       "      <th>Art. 7-3.</th>\n",
       "      <th>Art. 7-4.</th>\n",
       "    </tr>\n",
       "    <tr>\n",
       "      <th>section_title</th>\n",
       "      <th></th>\n",
       "      <th></th>\n",
       "      <th></th>\n",
       "      <th></th>\n",
       "      <th></th>\n",
       "      <th></th>\n",
       "      <th></th>\n",
       "      <th></th>\n",
       "      <th></th>\n",
       "      <th></th>\n",
       "      <th></th>\n",
       "      <th></th>\n",
       "      <th></th>\n",
       "      <th></th>\n",
       "      <th></th>\n",
       "      <th></th>\n",
       "      <th></th>\n",
       "      <th></th>\n",
       "      <th></th>\n",
       "      <th></th>\n",
       "      <th></th>\n",
       "    </tr>\n",
       "  </thead>\n",
       "  <tbody>\n",
       "    <tr>\n",
       "      <th>1. Who is the responsible controller for the data processing and whom you may contact?</th>\n",
       "      <td>0.257224</td>\n",
       "      <td>0.213051</td>\n",
       "      <td>0.138168</td>\n",
       "      <td>0.205891</td>\n",
       "      <td>0.240278</td>\n",
       "      <td>0.208943</td>\n",
       "      <td>0.227287</td>\n",
       "      <td>0.246371</td>\n",
       "      <td>0.261289</td>\n",
       "      <td>0.282306</td>\n",
       "      <td>...</td>\n",
       "      <td>0.250797</td>\n",
       "      <td>0.200064</td>\n",
       "      <td>0.294184</td>\n",
       "      <td>0.159536</td>\n",
       "      <td>0.112370</td>\n",
       "      <td>0.080780</td>\n",
       "      <td>0.306141</td>\n",
       "      <td>0.209066</td>\n",
       "      <td>0.189841</td>\n",
       "      <td>0.241574</td>\n",
       "    </tr>\n",
       "    <tr>\n",
       "      <th>2. What data is being processed and from which sources do these stem from?</th>\n",
       "      <td>0.404369</td>\n",
       "      <td>0.294764</td>\n",
       "      <td>0.219224</td>\n",
       "      <td>0.250250</td>\n",
       "      <td>0.287415</td>\n",
       "      <td>0.370119</td>\n",
       "      <td>0.300780</td>\n",
       "      <td>0.164135</td>\n",
       "      <td>0.228211</td>\n",
       "      <td>0.382334</td>\n",
       "      <td>...</td>\n",
       "      <td>0.335754</td>\n",
       "      <td>0.428162</td>\n",
       "      <td>0.407551</td>\n",
       "      <td>0.373597</td>\n",
       "      <td>0.159517</td>\n",
       "      <td>0.139545</td>\n",
       "      <td>0.319179</td>\n",
       "      <td>0.242864</td>\n",
       "      <td>0.249816</td>\n",
       "      <td>0.271056</td>\n",
       "    </tr>\n",
       "    <tr>\n",
       "      <th>3. For which purpose and for how long is the data being processed?</th>\n",
       "      <td>0.677006</td>\n",
       "      <td>0.526309</td>\n",
       "      <td>0.488485</td>\n",
       "      <td>0.512642</td>\n",
       "      <td>0.507410</td>\n",
       "      <td>0.677426</td>\n",
       "      <td>0.586262</td>\n",
       "      <td>0.225294</td>\n",
       "      <td>0.505885</td>\n",
       "      <td>0.641052</td>\n",
       "      <td>...</td>\n",
       "      <td>0.635236</td>\n",
       "      <td>0.706905</td>\n",
       "      <td>0.562108</td>\n",
       "      <td>0.612109</td>\n",
       "      <td>0.502407</td>\n",
       "      <td>0.275925</td>\n",
       "      <td>0.524389</td>\n",
       "      <td>0.472203</td>\n",
       "      <td>0.489171</td>\n",
       "      <td>0.392522</td>\n",
       "    </tr>\n",
       "    <tr>\n",
       "      <th>4. On which legal basis is personal data being processed?</th>\n",
       "      <td>0.554331</td>\n",
       "      <td>0.424058</td>\n",
       "      <td>0.316717</td>\n",
       "      <td>0.388963</td>\n",
       "      <td>0.388092</td>\n",
       "      <td>0.478369</td>\n",
       "      <td>0.487596</td>\n",
       "      <td>0.299232</td>\n",
       "      <td>0.517118</td>\n",
       "      <td>0.584450</td>\n",
       "      <td>...</td>\n",
       "      <td>0.530167</td>\n",
       "      <td>0.413771</td>\n",
       "      <td>0.397027</td>\n",
       "      <td>0.357036</td>\n",
       "      <td>0.299253</td>\n",
       "      <td>0.362024</td>\n",
       "      <td>0.533030</td>\n",
       "      <td>0.623094</td>\n",
       "      <td>0.648719</td>\n",
       "      <td>0.525395</td>\n",
       "    </tr>\n",
       "    <tr>\n",
       "      <th>5. Who will be receiving your data?</th>\n",
       "      <td>0.414231</td>\n",
       "      <td>0.417125</td>\n",
       "      <td>0.219479</td>\n",
       "      <td>0.320561</td>\n",
       "      <td>0.327749</td>\n",
       "      <td>0.415116</td>\n",
       "      <td>0.464685</td>\n",
       "      <td>0.275941</td>\n",
       "      <td>0.330275</td>\n",
       "      <td>0.471202</td>\n",
       "      <td>...</td>\n",
       "      <td>0.386384</td>\n",
       "      <td>0.371793</td>\n",
       "      <td>0.419669</td>\n",
       "      <td>0.329830</td>\n",
       "      <td>0.243444</td>\n",
       "      <td>0.297163</td>\n",
       "      <td>0.387276</td>\n",
       "      <td>0.393481</td>\n",
       "      <td>0.348014</td>\n",
       "      <td>0.346023</td>\n",
       "    </tr>\n",
       "    <tr>\n",
       "      <th>6. Are you obliged to provide data?</th>\n",
       "      <td>0.346663</td>\n",
       "      <td>0.304157</td>\n",
       "      <td>0.215242</td>\n",
       "      <td>0.315349</td>\n",
       "      <td>0.274360</td>\n",
       "      <td>0.370693</td>\n",
       "      <td>0.325903</td>\n",
       "      <td>0.219471</td>\n",
       "      <td>0.274074</td>\n",
       "      <td>0.406899</td>\n",
       "      <td>...</td>\n",
       "      <td>0.278319</td>\n",
       "      <td>0.348505</td>\n",
       "      <td>0.352224</td>\n",
       "      <td>0.269763</td>\n",
       "      <td>0.212527</td>\n",
       "      <td>0.235474</td>\n",
       "      <td>0.361545</td>\n",
       "      <td>0.296134</td>\n",
       "      <td>0.267018</td>\n",
       "      <td>0.284305</td>\n",
       "    </tr>\n",
       "    <tr>\n",
       "      <th>7. Is there automated decision-making including profiling?</th>\n",
       "      <td>0.338309</td>\n",
       "      <td>0.248000</td>\n",
       "      <td>0.242386</td>\n",
       "      <td>0.281925</td>\n",
       "      <td>0.333447</td>\n",
       "      <td>0.295029</td>\n",
       "      <td>0.265202</td>\n",
       "      <td>0.091091</td>\n",
       "      <td>0.265838</td>\n",
       "      <td>0.364252</td>\n",
       "      <td>...</td>\n",
       "      <td>0.332294</td>\n",
       "      <td>0.338986</td>\n",
       "      <td>0.311801</td>\n",
       "      <td>0.309150</td>\n",
       "      <td>0.332140</td>\n",
       "      <td>0.202008</td>\n",
       "      <td>0.314543</td>\n",
       "      <td>0.318810</td>\n",
       "      <td>0.324979</td>\n",
       "      <td>0.324672</td>\n",
       "    </tr>\n",
       "    <tr>\n",
       "      <th>8. Your rights in processing your personal data</th>\n",
       "      <td>0.503500</td>\n",
       "      <td>0.443349</td>\n",
       "      <td>0.276374</td>\n",
       "      <td>0.238047</td>\n",
       "      <td>0.395305</td>\n",
       "      <td>0.483505</td>\n",
       "      <td>0.470275</td>\n",
       "      <td>0.233828</td>\n",
       "      <td>0.326760</td>\n",
       "      <td>0.508416</td>\n",
       "      <td>...</td>\n",
       "      <td>0.444061</td>\n",
       "      <td>0.406353</td>\n",
       "      <td>0.380960</td>\n",
       "      <td>0.388545</td>\n",
       "      <td>0.218278</td>\n",
       "      <td>0.337084</td>\n",
       "      <td>0.388264</td>\n",
       "      <td>0.433164</td>\n",
       "      <td>0.459108</td>\n",
       "      <td>0.365636</td>\n",
       "    </tr>\n",
       "  </tbody>\n",
       "</table>\n",
       "<p>8 rows × 29 columns</p>\n",
       "</div>"
      ],
      "text/plain": [
       "                                                    Art. 5-1.  Art. 5-2.  \\\n",
       "section_title                                                              \n",
       "1. Who is the responsible controller for the da...   0.257224   0.213051   \n",
       "2. What data is being processed and from which ...   0.404369   0.294764   \n",
       "3. For which purpose and for how long is the da...   0.677006   0.526309   \n",
       "4. On which legal basis is personal data being ...   0.554331   0.424058   \n",
       "5. Who will be receiving your data?                  0.414231   0.417125   \n",
       "6. Are you obliged to provide data?                  0.346663   0.304157   \n",
       "7. Is there automated decision-making including...   0.338309   0.248000   \n",
       "8. Your rights in processing your personal data      0.503500   0.443349   \n",
       "\n",
       "                                                    Art. 5-3.  Art. 5-4.  \\\n",
       "section_title                                                              \n",
       "1. Who is the responsible controller for the da...   0.138168   0.205891   \n",
       "2. What data is being processed and from which ...   0.219224   0.250250   \n",
       "3. For which purpose and for how long is the da...   0.488485   0.512642   \n",
       "4. On which legal basis is personal data being ...   0.316717   0.388963   \n",
       "5. Who will be receiving your data?                  0.219479   0.320561   \n",
       "6. Are you obliged to provide data?                  0.215242   0.315349   \n",
       "7. Is there automated decision-making including...   0.242386   0.281925   \n",
       "8. Your rights in processing your personal data      0.276374   0.238047   \n",
       "\n",
       "                                                    Art. 5-5.  Art. 5-6.  \\\n",
       "section_title                                                              \n",
       "1. Who is the responsible controller for the da...   0.240278   0.208943   \n",
       "2. What data is being processed and from which ...   0.287415   0.370119   \n",
       "3. For which purpose and for how long is the da...   0.507410   0.677426   \n",
       "4. On which legal basis is personal data being ...   0.388092   0.478369   \n",
       "5. Who will be receiving your data?                  0.327749   0.415116   \n",
       "6. Are you obliged to provide data?                  0.274360   0.370693   \n",
       "7. Is there automated decision-making including...   0.333447   0.295029   \n",
       "8. Your rights in processing your personal data      0.395305   0.483505   \n",
       "\n",
       "                                                    Art. 5-7.  Art. 5-8.  \\\n",
       "section_title                                                              \n",
       "1. Who is the responsible controller for the da...   0.227287   0.246371   \n",
       "2. What data is being processed and from which ...   0.300780   0.164135   \n",
       "3. For which purpose and for how long is the da...   0.586262   0.225294   \n",
       "4. On which legal basis is personal data being ...   0.487596   0.299232   \n",
       "5. Who will be receiving your data?                  0.464685   0.275941   \n",
       "6. Are you obliged to provide data?                  0.325903   0.219471   \n",
       "7. Is there automated decision-making including...   0.265202   0.091091   \n",
       "8. Your rights in processing your personal data      0.470275   0.233828   \n",
       "\n",
       "                                                    Art. 6-1.  Art. 6-2.  ...  \\\n",
       "section_title                                                             ...   \n",
       "1. Who is the responsible controller for the da...   0.261289   0.282306  ...   \n",
       "2. What data is being processed and from which ...   0.228211   0.382334  ...   \n",
       "3. For which purpose and for how long is the da...   0.505885   0.641052  ...   \n",
       "4. On which legal basis is personal data being ...   0.517118   0.584450  ...   \n",
       "5. Who will be receiving your data?                  0.330275   0.471202  ...   \n",
       "6. Are you obliged to provide data?                  0.274074   0.406899  ...   \n",
       "7. Is there automated decision-making including...   0.265838   0.364252  ...   \n",
       "8. Your rights in processing your personal data      0.326760   0.508416  ...   \n",
       "\n",
       "                                                    Art. 6-12.  Art. 6-13.  \\\n",
       "section_title                                                                \n",
       "1. Who is the responsible controller for the da...    0.250797    0.200064   \n",
       "2. What data is being processed and from which ...    0.335754    0.428162   \n",
       "3. For which purpose and for how long is the da...    0.635236    0.706905   \n",
       "4. On which legal basis is personal data being ...    0.530167    0.413771   \n",
       "5. Who will be receiving your data?                   0.386384    0.371793   \n",
       "6. Are you obliged to provide data?                   0.278319    0.348505   \n",
       "7. Is there automated decision-making including...    0.332294    0.338986   \n",
       "8. Your rights in processing your personal data       0.444061    0.406353   \n",
       "\n",
       "                                                    Art. 6-14.  Art. 6-15.  \\\n",
       "section_title                                                                \n",
       "1. Who is the responsible controller for the da...    0.294184    0.159536   \n",
       "2. What data is being processed and from which ...    0.407551    0.373597   \n",
       "3. For which purpose and for how long is the da...    0.562108    0.612109   \n",
       "4. On which legal basis is personal data being ...    0.397027    0.357036   \n",
       "5. Who will be receiving your data?                   0.419669    0.329830   \n",
       "6. Are you obliged to provide data?                   0.352224    0.269763   \n",
       "7. Is there automated decision-making including...    0.311801    0.309150   \n",
       "8. Your rights in processing your personal data       0.380960    0.388545   \n",
       "\n",
       "                                                    Art. 6-16.  Art. 6-17.  \\\n",
       "section_title                                                                \n",
       "1. Who is the responsible controller for the da...    0.112370    0.080780   \n",
       "2. What data is being processed and from which ...    0.159517    0.139545   \n",
       "3. For which purpose and for how long is the da...    0.502407    0.275925   \n",
       "4. On which legal basis is personal data being ...    0.299253    0.362024   \n",
       "5. Who will be receiving your data?                   0.243444    0.297163   \n",
       "6. Are you obliged to provide data?                   0.212527    0.235474   \n",
       "7. Is there automated decision-making including...    0.332140    0.202008   \n",
       "8. Your rights in processing your personal data       0.218278    0.337084   \n",
       "\n",
       "                                                    Art. 7-1.  Art. 7-2.  \\\n",
       "section_title                                                              \n",
       "1. Who is the responsible controller for the da...   0.306141   0.209066   \n",
       "2. What data is being processed and from which ...   0.319179   0.242864   \n",
       "3. For which purpose and for how long is the da...   0.524389   0.472203   \n",
       "4. On which legal basis is personal data being ...   0.533030   0.623094   \n",
       "5. Who will be receiving your data?                  0.387276   0.393481   \n",
       "6. Are you obliged to provide data?                  0.361545   0.296134   \n",
       "7. Is there automated decision-making including...   0.314543   0.318810   \n",
       "8. Your rights in processing your personal data      0.388264   0.433164   \n",
       "\n",
       "                                                    Art. 7-3.  Art. 7-4.  \n",
       "section_title                                                             \n",
       "1. Who is the responsible controller for the da...   0.189841   0.241574  \n",
       "2. What data is being processed and from which ...   0.249816   0.271056  \n",
       "3. For which purpose and for how long is the da...   0.489171   0.392522  \n",
       "4. On which legal basis is personal data being ...   0.648719   0.525395  \n",
       "5. Who will be receiving your data?                  0.348014   0.346023  \n",
       "6. Are you obliged to provide data?                  0.267018   0.284305  \n",
       "7. Is there automated decision-making including...   0.324979   0.324672  \n",
       "8. Your rights in processing your personal data      0.459108   0.365636  \n",
       "\n",
       "[8 rows x 29 columns]"
      ]
     },
     "execution_count": 15,
     "metadata": {},
     "output_type": "execute_result"
    }
   ],
   "source": [
    "sim_df"
   ]
  },
  {
   "cell_type": "code",
   "execution_count": 16,
   "metadata": {},
   "outputs": [],
   "source": [
    "ikea_df = ikea_df.reset_index(drop=True)\n",
    "sim_df = sim_df.reset_index(drop=True)"
   ]
  },
  {
   "cell_type": "code",
   "execution_count": 18,
   "metadata": {},
   "outputs": [
    {
     "name": "stdout",
     "output_type": "stream",
     "text": [
      "                                       section_title  \\\n",
      "2  3. For which purpose and for how long is the d...   \n",
      "3  4. On which legal basis is personal data being...   \n",
      "7    8. Your rights in processing your personal data   \n",
      "4                5. Who will be receiving your data?   \n",
      "1  2. What data is being processed and from which...   \n",
      "5                6. Are you obliged to provide data?   \n",
      "6  7. Is there automated decision-making includin...   \n",
      "0  1. Who is the responsible controller for the d...   \n",
      "\n",
      "   semantic_similarity_score best_match_gdpr_section  \n",
      "2                   0.706905              Art. 6-13.  \n",
      "3                   0.648719               Art. 7-3.  \n",
      "7                   0.508416               Art. 6-2.  \n",
      "4                   0.471202               Art. 6-2.  \n",
      "1                   0.428162              Art. 6-13.  \n",
      "5                   0.406899               Art. 6-2.  \n",
      "6                   0.364252               Art. 6-2.  \n",
      "0                   0.306141               Art. 7-1.  \n"
     ]
    }
   ],
   "source": [
    "ikea_df[\"semantic_similarity_score\"] = sim_df.max(axis=1)\n",
    "ikea_df[\"best_match_gdpr_section\"] = sim_df.idxmax(axis=1)\n",
    "\n",
    "# View results\n",
    "print(ikea_df[[\"section_title\", \"semantic_similarity_score\", \"best_match_gdpr_section\"]].sort_values(by=\"semantic_similarity_score\", ascending=False))"
   ]
  },
  {
   "cell_type": "code",
   "execution_count": 19,
   "metadata": {},
   "outputs": [
    {
     "data": {
      "image/png": "[encoded data removed]",
      "text/plain": [
       "<Figure size 1200x800 with 2 Axes>"
      ]
     },
     "metadata": {},
     "output_type": "display_data"
    }
   ],
   "source": [
    "# Similarity matrix for top 10 IKEA sections\n",
    "plt.figure(figsize=(12, 8))\n",
    "sns.heatmap(sim_df.iloc[:10, :15], cmap=\"YlGnBu\", cbar_kws={'label': 'Cosine Similarity'})\n",
    "plt.title(\"Top 10 IKEA Privacy Sections vs GDPR Sections Similarity\")\n",
    "plt.xlabel(\"GDPR Sections\")\n",
    "plt.ylabel(\"IKEA Privacy Sections\")\n",
    "plt.tight_layout()\n",
    "plt.show()"
   ]
  }
 ],
 "metadata": {
  "kernelspec": {
   "display_name": "deng",
   "language": "python",
   "name": "python3"
  },
  "language_info": {
   "codemirror_mode": {
    "name": "ipython",
    "version": 3
   },
   "file_extension": ".py",
   "mimetype": "text/x-python",
   "name": "python",
   "nbconvert_exporter": "python",
   "pygments_lexer": "ipython3",
   "version": "3.10.15"
  }
 },
 "nbformat": 4,
 "nbformat_minor": 2
}

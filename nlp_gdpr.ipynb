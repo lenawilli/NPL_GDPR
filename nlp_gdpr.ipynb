{
 "cells": [
  {
   "cell_type": "markdown",
   "id": "81233bc4-ddb6-4a05-8708-379abb19e61d",
   "metadata": {},
   "source": [
    "# NLP: GDPR Compliance Checker​"
   ]
  },
  {
   "cell_type": "markdown",
   "id": "20e7de25-89bc-4b87-861d-c1f5da1ec680",
   "metadata": {},
   "source": [
    "Koblmiller Julia, Prakash Umakanth, Wadhwani Amar, Willisits Lena​"
   ]
  },
  {
   "cell_type": "markdown",
   "id": "518dd4ce-a914-4654-a5a6-8d76c57c509a",
   "metadata": {},
   "source": [
    "### Imports"
   ]
  },
  {
   "cell_type": "code",
   "execution_count": null,
   "id": "efd96856-2ce2-4ae7-907a-a71092e1a0bb",
   "metadata": {},
   "outputs": [],
   "source": [
    "import requests\n",
    "from bs4 import BeautifulSoup\n",
    "import json\n",
    "import time"
   ]
  },
  {
   "cell_type": "markdown",
   "id": "2009cf91-6b8d-4c67-8446-60baf1bafe18",
   "metadata": {},
   "source": [
    "### Gathering the baseline data from https://gdpr-info.eu/"
   ]
  },
  {
   "cell_type": "code",
   "execution_count": 14,
   "id": "9cd6b5e5-3759-4f79-9589-c821bab75a45",
   "metadata": {},
   "outputs": [],
   "source": [
    "base_url = \"https://gdpr-info.eu/art-{}-gdpr/\"\n",
    "data = []\n",
    "\n",
    "for i in range(1, 100):\n",
    "    try:\n",
    "        res = requests.get(base_url.format(i), timeout=10)\n",
    "        res.raise_for_status()\n",
    "        soup = BeautifulSoup(res.text, \"html.parser\")\n",
    "        title = soup.find(\"span\", class_=\"dsgvo-title\")\n",
    "        if not title:\n",
    "            continue\n",
    "        sections = []\n",
    "        ol = soup.find(\"ol\")\n",
    "        if ol:\n",
    "            for j, li in enumerate(ol.find_all(\"li\"), 1):\n",
    "                sections.append({f\"{j}.\": li.get_text(\" \", strip=True)})\n",
    "        else:\n",
    "            div = soup.find(\"div\", class_=\"entry-content\")\n",
    "            text = div.get_text(\"\\n\", strip=True) if div else \"\"\n",
    "            sections.append({\"1.\": text})\n",
    "        data.append({\n",
    "            \"article_number\": i,\n",
    "            \"article_title\": title.get_text(strip=True),\n",
    "            \"sections\": sections\n",
    "        })\n",
    "        time.sleep(0.5)\n",
    "    except:\n",
    "        continue\n",
    "\n",
    "with open(\"gdpr_articles_baseline.json\", \"w\", encoding=\"utf-8\") as f:\n",
    "    json.dump(data, f, indent=2, ensure_ascii=False)\n"
   ]
  }
 ],
 "metadata": {
  "kernelspec": {
   "display_name": "Python 3 (ipykernel)",
   "language": "python",
   "name": "python3"
  },
  "language_info": {
   "codemirror_mode": {
    "name": "ipython",
    "version": 3
   },
   "file_extension": ".py",
   "mimetype": "text/x-python",
   "name": "python",
   "nbconvert_exporter": "python",
   "pygments_lexer": "ipython3",
   "version": "3.9.13"
  }
 },
 "nbformat": 4,
 "nbformat_minor": 5
}
